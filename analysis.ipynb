{
 "cells": [
  {
   "cell_type": "code",
   "execution_count": 1,
   "outputs": [],
   "source": [
    "import pandas as pd\n",
    "from sklearn.linear_model import LinearRegression, Lasso\n",
    "import numpy as np\n",
    "from scipy.stats import wilcoxon\n",
    "import matplotlib.pyplot as plt"
   ],
   "metadata": {
    "collapsed": false,
    "pycharm": {
     "name": "#%%\n"
    }
   }
  },
  {
   "cell_type": "code",
   "execution_count": 2,
   "outputs": [],
   "source": [
    "sectors = pd.read_excel('49_Industry_Portfolios_Daily.xlsx', sheet_name='LSSector')\n",
    "factors = pd.read_excel('49_Industry_Portfolios_Daily.xlsx', sheet_name='Factors')"
   ],
   "metadata": {
    "collapsed": false,
    "pycharm": {
     "name": "#%%\n"
    }
   }
  },
  {
   "cell_type": "code",
   "execution_count": 3,
   "outputs": [],
   "source": [
    "stock_data = pd.read_csv('StockData.csv', header=None)"
   ],
   "metadata": {
    "collapsed": false,
    "pycharm": {
     "name": "#%%\n"
    }
   }
  },
  {
   "cell_type": "code",
   "execution_count": 4,
   "outputs": [],
   "source": [
    "stock_dates = pd.read_csv('StockDates.csv', header=None)"
   ],
   "metadata": {
    "collapsed": false,
    "pycharm": {
     "name": "#%%\n"
    }
   }
  },
  {
   "cell_type": "code",
   "execution_count": 5,
   "outputs": [
    {
     "name": "stdout",
     "output_type": "stream",
     "text": [
      "Sector HEAD \n",
      "\n",
      "        Row  Market_RF     Agric      Food      Soda      Beer     Smoke  \\\n",
      "0  19900102       1.44  0.384446 -1.528202 -1.245530 -0.458392  1.087373   \n",
      "1  19900103      -0.06 -0.816019 -0.637575 -0.436020 -0.537150  1.133026   \n",
      "2  19900104      -0.71  1.233780 -0.164637  0.783768 -0.039612 -2.487524   \n",
      "3  19900105      -0.85  0.613737  0.021689  1.553723 -0.112296  1.200203   \n",
      "4  19900108       0.30 -0.175907 -0.388125  0.404098  0.949752 -2.911131   \n",
      "\n",
      "       Toys       Fun     Books  ...     Boxes     Trans     Whlsl     Rtail  \\\n",
      "0  0.228338  0.425476  0.001780  ...  0.260234  0.770604 -0.102255  1.429006   \n",
      "1 -0.796181  0.353105 -0.927158  ...  0.383740 -0.677109 -0.456573  0.650458   \n",
      "2  0.071861  0.633411  0.730303  ...  0.320926  0.300883 -0.062777  0.552087   \n",
      "3  0.681439  0.771323 -0.202398  ...  0.500320  0.098296  0.375887  0.293823   \n",
      "4 -0.505096 -0.251526 -0.210212  ...  0.585299 -0.080457 -0.353136 -0.128290   \n",
      "\n",
      "      Meals     Banks     Insur     RlEst       Fin     Other  \n",
      "0 -0.309725 -0.100433 -0.131500 -0.119750 -0.538956 -0.061792  \n",
      "1 -0.586678  0.560851  0.040896 -0.005844  1.012456  0.822991  \n",
      "2 -0.964025  0.206741  0.207267  1.165849  0.125735 -0.087936  \n",
      "3 -0.455607  0.549395 -0.329976  0.446214  0.532134  0.779710  \n",
      "4  1.227391 -0.280257 -0.530479 -0.976781 -0.578282 -0.740957  \n",
      "\n",
      "[5 rows x 51 columns]\n",
      "Sector shape \n",
      "\n",
      "(7873, 51)\n",
      "Sector describe \n",
      "\n",
      "<bound method NDFrame.describe of            Row  Market_RF     Agric      Food      Soda      Beer     Smoke  \\\n",
      "0     19900102       1.44  0.384446 -1.528202 -1.245530 -0.458392  1.087373   \n",
      "1     19900103      -0.06 -0.816019 -0.637575 -0.436020 -0.537150  1.133026   \n",
      "2     19900104      -0.71  1.233780 -0.164637  0.783768 -0.039612 -2.487524   \n",
      "3     19900105      -0.85  0.613737  0.021689  1.553723 -0.112296  1.200203   \n",
      "4     19900108       0.30 -0.175907 -0.388125  0.404098  0.949752 -2.911131   \n",
      "...        ...        ...       ...       ...       ...       ...       ...   \n",
      "7868  20210325       0.67  0.715584  0.780501  0.213658 -0.073372 -0.017476   \n",
      "7869  20210326       1.55  0.660121  0.133217  0.578912  0.629757  1.574992   \n",
      "7870  20210329      -0.49 -0.006786  1.063665  1.708001  1.782668  0.588476   \n",
      "7871  20210330      -0.02 -1.519878 -0.840291 -1.190075 -1.119888 -1.850061   \n",
      "7872  20210331       0.63 -1.283655 -1.490924 -1.148701 -1.760781 -1.098436   \n",
      "\n",
      "          Toys       Fun     Books  ...     Boxes     Trans     Whlsl  \\\n",
      "0     0.228338  0.425476  0.001780  ...  0.260234  0.770604 -0.102255   \n",
      "1    -0.796181  0.353105 -0.927158  ...  0.383740 -0.677109 -0.456573   \n",
      "2     0.071861  0.633411  0.730303  ...  0.320926  0.300883 -0.062777   \n",
      "3     0.681439  0.771323 -0.202398  ...  0.500320  0.098296  0.375887   \n",
      "4    -0.505096 -0.251526 -0.210212  ...  0.585299 -0.080457 -0.353136   \n",
      "...        ...       ...       ...  ...       ...       ...       ...   \n",
      "7868  0.706237 -1.277493  1.986882  ...  0.977611  1.404514  1.091753   \n",
      "7869 -1.545418 -1.014267 -1.486072  ... -0.405777  0.792907  0.718242   \n",
      "7870 -1.334931 -0.221691 -0.578073  ...  0.891665 -0.180626 -0.429159   \n",
      "7871  2.019801  1.069928  2.220086  ... -0.389944  0.739566  0.669645   \n",
      "7872  2.226042  0.202215 -0.762746  ... -1.361745 -0.755918 -0.910051   \n",
      "\n",
      "         Rtail     Meals     Banks     Insur     RlEst       Fin     Other  \n",
      "0     1.429006 -0.309725 -0.100433 -0.131500 -0.119750 -0.538956 -0.061792  \n",
      "1     0.650458 -0.586678  0.560851  0.040896 -0.005844  1.012456  0.822991  \n",
      "2     0.552087 -0.964025  0.206741  0.207267  1.165849  0.125735 -0.087936  \n",
      "3     0.293823 -0.455607  0.549395 -0.329976  0.446214  0.532134  0.779710  \n",
      "4    -0.128290  1.227391 -0.280257 -0.530479 -0.976781 -0.578282 -0.740957  \n",
      "...        ...       ...       ...       ...       ...       ...       ...  \n",
      "7868 -0.108151  0.902051  1.200127  0.470043  2.341614 -0.076568  0.185558  \n",
      "7869 -0.126402 -0.461181  0.582409 -0.426524  1.113402 -0.064674  0.457077  \n",
      "7870  0.574679 -0.239084 -1.190103  0.673007 -2.371130 -0.326979  0.512245  \n",
      "7871 -0.021843  0.469629  1.068777 -0.150295  1.899953 -0.010704  0.349266  \n",
      "7872 -0.131517 -1.097548 -1.481181 -1.570004 -0.248275 -0.797857 -1.266705  \n",
      "\n",
      "[7873 rows x 51 columns]>\n",
      "Factor HEAD \n",
      "\n",
      "   Unnamed: 0  Mkt-RF   SMB   HML   RMW   CMA   MOM     RF\n",
      "0    19900102    1.44 -0.67 -0.11  0.20 -0.45 -1.08  0.026\n",
      "1    19900103   -0.06  0.73 -0.28  0.16 -0.46 -0.34  0.026\n",
      "2    19900104   -0.71  0.45 -0.24 -0.05 -0.02 -0.35  0.026\n",
      "3    19900105   -0.85  0.74 -0.23 -0.01 -0.10 -0.33  0.026\n",
      "4    19900108    0.30 -0.40 -0.26  0.06  0.31  0.20  0.026\n",
      "factors shape \n",
      "\n",
      "(7873, 8)\n",
      "factor describe \n",
      "\n",
      "<bound method NDFrame.describe of       Unnamed: 0  Mkt-RF   SMB   HML   RMW   CMA   MOM     RF\n",
      "0       19900102    1.44 -0.67 -0.11  0.20 -0.45 -1.08  0.026\n",
      "1       19900103   -0.06  0.73 -0.28  0.16 -0.46 -0.34  0.026\n",
      "2       19900104   -0.71  0.45 -0.24 -0.05 -0.02 -0.35  0.026\n",
      "3       19900105   -0.85  0.74 -0.23 -0.01 -0.10 -0.33  0.026\n",
      "4       19900108    0.30 -0.40 -0.26  0.06  0.31  0.20  0.026\n",
      "...          ...     ...   ...   ...   ...   ...   ...    ...\n",
      "7868    20210325    0.67  1.98  1.37  0.46  1.07  0.75  0.000\n",
      "7869    20210326    1.55  0.21  0.65  0.83  0.59 -0.47  0.000\n",
      "7870    20210329   -0.49 -2.47 -0.21  0.90  0.02 -2.75  0.000\n",
      "7871    20210330   -0.02  1.80  0.99 -0.27 -0.24  2.37  0.000\n",
      "7872    20210331    0.63  0.57 -2.32 -1.17 -0.32  1.81  0.000\n",
      "\n",
      "[7873 rows x 8 columns]>\n",
      "Sector HEAD \n",
      "\n",
      "   0  1  2  3  4  5  6  7  8  9\n",
      "0  0  3  .  0  1  .  1  9  9  0\n",
      "1  0  4  .  0  1  .  1  9  9  0\n",
      "2  0  5  .  0  1  .  1  9  9  0\n",
      "3  0  6  .  0  1  .  1  9  9  0\n",
      "4  0  9  .  0  1  .  1  9  9  0\n",
      "Sector HEAD \n",
      "\n",
      "(7894, 10)\n",
      "Sector HEAD \n",
      "\n",
      "<bound method NDFrame.describe of       0  1  2  3  4  5  6  7  8  9\n",
      "0     0  3  .  0  1  .  1  9  9  0\n",
      "1     0  4  .  0  1  .  1  9  9  0\n",
      "2     0  5  .  0  1  .  1  9  9  0\n",
      "3     0  6  .  0  1  .  1  9  9  0\n",
      "4     0  9  .  0  1  .  1  9  9  0\n",
      "...  .. .. .. .. .. .. .. .. .. ..\n",
      "7889  2  7  .  0  4  .  2  0  2  1\n",
      "7890  2  8  .  0  4  .  2  0  2  1\n",
      "7891  2  9  .  0  4  .  2  0  2  1\n",
      "7892  3  0  .  0  4  .  2  0  2  1\n",
      "7893  0  1  .  0  5  .  2  0  2  1\n",
      "\n",
      "[7894 rows x 10 columns]>\n",
      "    0        1      2       3      4      5       6      7       8      \\\n",
      "0  5.4034  0.26071  3.625  1.2917    NaN    NaN  1.0938    NaN  220.00   \n",
      "1  5.5248  0.25007  3.625  1.1667    NaN    NaN  1.1250    NaN  217.50   \n",
      "2  5.4034  0.25007  3.625  1.3333    NaN    NaN  1.1484    NaN  212.50   \n",
      "3  5.4034  0.25539  3.500  1.3333    NaN    NaN  1.0938    NaN  210.00   \n",
      "4  5.4034  0.26603  3.375  1.3333    NaN    NaN  1.0938    NaN  211.25   \n",
      "\n",
      "    9      ...  12488  12489  12490  12491  12492  12493  12494  12495  12496  \\\n",
      "0  2.0104  ...    NaN    NaN    NaN    NaN    NaN    NaN    NaN    NaN    NaN   \n",
      "1  2.0208  ...    NaN    NaN    NaN    NaN    NaN    NaN    NaN    NaN    NaN   \n",
      "2  2.0000  ...    NaN    NaN    NaN    NaN    NaN    NaN    NaN    NaN    NaN   \n",
      "3  2.0313  ...    NaN    NaN    NaN    NaN    NaN    NaN    NaN    NaN    NaN   \n",
      "4  2.0521  ...    NaN    NaN    NaN    NaN    NaN    NaN    NaN    NaN    NaN   \n",
      "\n",
      "   12497  \n",
      "0    NaN  \n",
      "1    NaN  \n",
      "2    NaN  \n",
      "3    NaN  \n",
      "4    NaN  \n",
      "\n",
      "[5 rows x 12498 columns]\n",
      "(7894, 12498)\n",
      "<bound method NDFrame.describe of         0        1      2       3      4      5       6      7       8      \\\n",
      "0      5.4034  0.26071  3.625  1.2917    NaN    NaN  1.0938    NaN  220.00   \n",
      "1      5.5248  0.25007  3.625  1.1667    NaN    NaN  1.1250    NaN  217.50   \n",
      "2      5.4034  0.25007  3.625  1.3333    NaN    NaN  1.1484    NaN  212.50   \n",
      "3      5.4034  0.25539  3.500  1.3333    NaN    NaN  1.0938    NaN  210.00   \n",
      "4      5.4034  0.26603  3.375  1.3333    NaN    NaN  1.0938    NaN  211.25   \n",
      "...       ...      ...    ...     ...    ...    ...     ...    ...     ...   \n",
      "7889  21.5000      NaN  5.490     NaN  47.93    NaN     NaN  11.48     NaN   \n",
      "7890  21.8900      NaN  5.600     NaN  47.95    NaN     NaN  11.50     NaN   \n",
      "7891  21.7800      NaN  5.480     NaN  47.88    NaN     NaN  11.42     NaN   \n",
      "7892  22.2900      NaN  5.610     NaN  47.95    NaN     NaN  10.55     NaN   \n",
      "7893  21.8900      NaN  5.390     NaN  47.71    NaN     NaN   9.86     NaN   \n",
      "\n",
      "         9      ...  12488  12489  12490  12491  12492   12493  12494  12495  \\\n",
      "0       2.0104  ...    NaN    NaN    NaN    NaN    NaN     NaN    NaN    NaN   \n",
      "1       2.0208  ...    NaN    NaN    NaN    NaN    NaN     NaN    NaN    NaN   \n",
      "2       2.0000  ...    NaN    NaN    NaN    NaN    NaN     NaN    NaN    NaN   \n",
      "3       2.0313  ...    NaN    NaN    NaN    NaN    NaN     NaN    NaN    NaN   \n",
      "4       2.0521  ...    NaN    NaN    NaN    NaN    NaN     NaN    NaN    NaN   \n",
      "...        ...  ...    ...    ...    ...    ...    ...     ...    ...    ...   \n",
      "7889  144.9200  ...   9.67  22.31   4.40  53.68  24.11  10.155  10.11  12.02   \n",
      "7890  143.2500  ...   9.47  22.31   4.46  52.13  23.88  10.140  10.11  11.82   \n",
      "7891  137.7500  ...   9.53  23.59   4.52  49.72  23.85  10.140  10.13  12.05   \n",
      "7892  137.5200  ...   9.60  23.80   4.12  48.52  23.37  10.150  10.11  11.74   \n",
      "7893  140.0300  ...   9.42  23.70   4.05  49.76  23.04  10.150  10.12  11.73   \n",
      "\n",
      "      12496  12497  \n",
      "0       NaN    NaN  \n",
      "1       NaN    NaN  \n",
      "2       NaN    NaN  \n",
      "3       NaN    NaN  \n",
      "4       NaN    NaN  \n",
      "...     ...    ...  \n",
      "7889   9.95  45.67  \n",
      "7890   9.96  45.54  \n",
      "7891   9.95  43.71  \n",
      "7892   9.97  42.56  \n",
      "7893   9.97  41.90  \n",
      "\n",
      "[7894 rows x 12498 columns]>\n"
     ]
    }
   ],
   "source": [
    "print(\"Sector HEAD \\n\")\n",
    "print(sectors.head())\n",
    "print(\"Sector shape \\n\")\n",
    "print(sectors.shape)\n",
    "print(\"Sector describe \\n\")\n",
    "print(sectors.describe)\n",
    "\n",
    "print(\"Factor HEAD \\n\")\n",
    "print(factors.head())\n",
    "print(\"factors shape \\n\")\n",
    "print(factors.shape)\n",
    "print(\"factor describe \\n\")\n",
    "print(factors.describe)\n",
    "\n",
    "print(\"Sector HEAD \\n\")\n",
    "print(stock_dates.head())\n",
    "print(\"Sector HEAD \\n\")\n",
    "print(stock_dates.shape)\n",
    "print(\"Sector HEAD \\n\")\n",
    "print(stock_dates.describe)\n",
    "\n",
    "print(stock_data.head())\n",
    "print(stock_data.shape)\n",
    "print(stock_data.describe)"
   ],
   "metadata": {
    "collapsed": false,
    "pycharm": {
     "name": "#%%\n"
    }
   }
  },
  {
   "cell_type": "code",
   "execution_count": 6,
   "outputs": [],
   "source": [
    "sum_column = stock_dates[stock_dates.columns[0]].astype(str).copy()\n",
    "for column in stock_dates.columns[1:]:\n",
    "    sum_column += stock_dates[column].astype(str) if stock_dates[column].astype(str)[0] != '.' else ''"
   ],
   "metadata": {
    "collapsed": false,
    "pycharm": {
     "name": "#%%\n"
    }
   }
  },
  {
   "cell_type": "code",
   "execution_count": 7,
   "outputs": [],
   "source": [
    "sum_column = pd.to_datetime(sum_column, format='%d%m%Y')"
   ],
   "metadata": {
    "collapsed": false,
    "pycharm": {
     "name": "#%%\n"
    }
   }
  },
  {
   "cell_type": "code",
   "execution_count": 8,
   "outputs": [
    {
     "data": {
      "text/plain": "0   1990-01-03\n1   1990-01-04\n2   1990-01-05\n3   1990-01-06\n4   1990-01-09\nName: date, dtype: datetime64[ns]"
     },
     "execution_count": 8,
     "metadata": {},
     "output_type": "execute_result"
    }
   ],
   "source": [
    "stock_data['date'] = sum_column\n",
    "del sum_column\n",
    "del stock_dates\n",
    "stock_data['date'].head()"
   ],
   "metadata": {
    "collapsed": false,
    "pycharm": {
     "name": "#%%\n"
    }
   }
  },
  {
   "cell_type": "code",
   "execution_count": 9,
   "outputs": [],
   "source": [
    "factors['Unnamed: 0'] = pd.to_datetime(factors['Unnamed: 0'], format='%Y%m%d')"
   ],
   "metadata": {
    "collapsed": false,
    "pycharm": {
     "name": "#%%\n"
    }
   }
  },
  {
   "cell_type": "code",
   "execution_count": 10,
   "outputs": [],
   "source": [
    "sectors['Row'] = pd.to_datetime(sectors['Row'], format='%Y%m%d')\n"
   ],
   "metadata": {
    "collapsed": false,
    "pycharm": {
     "name": "#%%\n"
    }
   }
  },
  {
   "cell_type": "code",
   "execution_count": 46,
   "outputs": [],
   "source": [
    "import statsmodels.api as sm\n",
    "import statsmodels\n",
    "def _prepare_X_y(stock_data, predictor_frame, index, predictor_on='Row'):\n",
    "    stock_1_data = stock_data[['date', index]]\n",
    "\n",
    "    stock_1_sectors = pd.merge(predictor_frame, stock_1_data,left_on=predictor_on, right_on='date')\n",
    "    columns = list(stock_1_sectors.columns).copy()\n",
    "    columns[-1] = 'stock_price'\n",
    "    stock_1_sectors.columns = columns\n",
    "    stock_1_sectors = stock_1_sectors.sort_values(by=[predictor_on])\n",
    "    if 'Market_RF' in stock_1_sectors.columns:\n",
    "        stock_1_sectors.drop(labels=['Market_RF'], axis=1, inplace=True)\n",
    "    elif 'Mkt-RF' in stock_1_sectors.columns:\n",
    "        stock_1_sectors.drop(labels=['Mkt-RF', 'RF'], axis=1, inplace=True)\n",
    "    stock_1_sectors.drop(labels=['date'], axis=1, inplace=True)\n",
    "    daily_stock_returns = stock_1_sectors['stock_price'].copy().pct_change()\n",
    "\n",
    "\n",
    "    X = stock_1_sectors[stock_1_sectors.columns.difference(['stock_price', predictor_on])]\n",
    "    dates = stock_1_sectors[predictor_on].copy()\n",
    "    y = daily_stock_returns\n",
    "    return X, y, dates\n",
    "\n",
    "\n",
    "# def plot_model(beta, regressor, regressor_name, model, stock, title):\n",
    "#     #Plot data and regression lines\n",
    "#     fig = plt.figure(figsize=(18,6))\n",
    "#     fig.suptitle(title, fontsize=22)\n",
    "#     ax1 = fig.add_subplot(121)\n",
    "#     ax1.scatter(regressor, stock, color='blue', alpha=0.3)\n",
    "#     print(regressor)\n",
    "#     ax1.plot(regressor, model.predict(regressor), color='red', linewidth=2, label=f\"{regressor_name}\")\n",
    "#     ax1.set_title(f\"High Beta: {beta}\", {'fontsize': 16})\n",
    "#     ax1.set_ylabel('Percent Return of Individual Securities', {'fontsize': 16})\n",
    "#     ax1.set_xlabel('Percent Return of the S&P 500 Index', {'fontsize': 16}, labelpad=10)\n",
    "#     ax1.set_xlim(-0.1, 0.1)\n",
    "#     ax1.set_ylim(-0.5, 0.5)\n",
    "#     ax1.set_yticks([-0.5, -0.25, 0, 0.25, 0.5])\n",
    "#     ax1.grid(True, which='both')\n",
    "#     ax1.axhline(y=0, color='black', linestyle=':')\n",
    "#     ax1.axvline(x=0, color='black', linestyle=':')\n",
    "#     ax1.legend(loc='upper right', fontsize='large')\n",
    "#     extent = ax1.get_window_extent().transformed(fig.dpi_scale_trans.inverted())\n",
    "#     fig.savefig(f'plots/line_fit_{regressor_name}_stock.png', bbox_inches=extent.expanded(1.1, 1.2))\n",
    "\n",
    "\n",
    "def get_alpha_beta_mse(X, y, dates, training_length):\n",
    "    alphas = []\n",
    "    betas = []\n",
    "    mse = []\n",
    "    r2_scores = []\n",
    "    for row_break in range(0, y.shape[0], training_length):\n",
    "        X_train, y_train = X.iloc[row_break: row_break + training_length].copy(), \\\n",
    "                           y.iloc[row_break: row_break + training_length].copy()\n",
    "        y_train = y_train.interpolate()\n",
    "        y_train = y_train.fillna(method='bfill')\n",
    "        y_train =  y_train[y_train.index.isin(X_train.index)]\n",
    "        if all(y_train.isna()):\n",
    "            # print(\"Skipping stock data for \", row_break)\n",
    "            continue\n",
    "        X_train = sm.add_constant(X_train)\n",
    "        regression_model = sm.OLS(y_train * 100, X_train)\n",
    "        regression_results = regression_model.fit()\n",
    "        alphas.append(round(float(regression_results.params.const), 5))\n",
    "        betas.append([round(float(regression_results.params.tolist()[i]), 5)\n",
    "                      for i, param in enumerate(regression_results.params.index) if param != 'const'])\n",
    "        # betas.append([round(float(coef), 5) for coef in regression_model.coef_])\n",
    "        r2_scores.append(regression_results.rsquared)\n",
    "        mse.append(regression_results.mse_total)\n",
    "        # regression_model = LinearRegression()\n",
    "        # regression_model.fit(X_train.to_numpy(), y_train.to_numpy() -1)\n",
    "        # alphas.append(round(float(regression_model.intercept_), 5))\n",
    "        # betas.append([round(float(coef), 5) for coef in regression_model.coef_])\n",
    "        # mse.append(regression_model.score(X_train.to_numpy(), y_train))\n",
    "        # r2_scores.append(r2_score(y_train.to_numpy(), regression_model.predict(X_train.to_numpy())))\n",
    "\n",
    "        # if row_break == 0:\n",
    "        #     regressor_name = list(X_train.columns)[0]\n",
    "        #     plot_model(beta=betas[0], regressor=X_train[regressor_name],\n",
    "        #                regressor_name=regressor_name,\n",
    "        #                model=regression_model,\n",
    "        #                stock=y_train,\n",
    "        #                title=f\"Predicted monthly stock returns based on {regressor_name} from {dates[row_break]}\"\n",
    "        #                      f\" to {dates[row_break+training_length]}, training Mean Square Error:: {mse[0]}\")\n",
    "    betas = pd.DataFrame(betas, columns=X.columns)\n",
    "    return alphas, betas, mse, r2_scores\n",
    "\n",
    "def perform_significance_test(alpha_1=None, alpha_2=None, betas_1=None, betas_2=None):\n",
    "    significance = dict()\n",
    "    if alpha_1 is not None and alpha_2 is not None:\n",
    "        significance['alpha'] = dict()\n",
    "        significance['alpha']['less'] = wilcoxon(alpha_1, alpha_2, alternative='less')\n",
    "        significance['alpha']['two-sided'] = wilcoxon(alpha_1, alpha_2, alternative='two-sided')\n",
    "    elif betas_2 is not None and betas_1 is not None:\n",
    "        significance['betas'] = dict()\n",
    "        significance['betas']['two-sided'] = wilcoxon(betas_1, betas_2, alternative='two-sided')\n",
    "        significance['betas']['less'] = wilcoxon(betas_1, betas_2, alternative='less')\n",
    "    else:\n",
    "        raise ValueError('missing arguments to function')\n",
    "    return significance\n",
    "\n",
    "def run_experiment_single_training_length(regressor, regressor_on, training_length, stocks):\n",
    "    results = list()\n",
    "    for column in stocks.columns[:300]:\n",
    "        if column == 'date':\n",
    "            continue\n",
    "        results.append(dict())\n",
    "        if column % 10 == 0:\n",
    "            print(\"Running on\", column)\n",
    "        X, y, dates = _prepare_X_y(stocks, regressor, column, predictor_on=regressor_on)\n",
    "        if any(y.isna()):\n",
    "            counts = y.isna().value_counts(normalize=True)\n",
    "            if False in counts and counts[False] < 0.75:\n",
    "                print('skipping stock', column)\n",
    "                continue\n",
    "            elif False not in counts:\n",
    "                print('skipping stock', column)\n",
    "                continue\n",
    "        alphas, betas, mse, r2_scores = get_alpha_beta_mse(X, y, dates, training_length)\n",
    "        # print(betas)\n",
    "        results[column]['alpha'] = np.mean(alphas)\n",
    "        results[column]['betas'] = betas.mean(axis=0)\n",
    "        results[column]['mse'] = np.mean(mse)\n",
    "        results[column]['r2_scores'] = np.mean(r2_scores)\n",
    "\n",
    "    return results\n",
    "\n",
    "# def run_experiment_two_training_length_single_stock(regressor,\n",
    "#                                                      regressor_on,\n",
    "#                                                      training_length_1,\n",
    "#                                                      training_length_2,\n",
    "#                                                      stocks):\n",
    "#     results_1 = run_experiment_single_training_length(regressor,\n",
    "#                                                       regressor_on,\n",
    "#                                                       training_length_1,\n",
    "#                                                       stocks)\n",
    "#     results_2 = run_experiment_single_training_length(regressor,\n",
    "#                                                       regressor_on,\n",
    "#                                                       training_length_2,\n",
    "#                                                       stocks)\n",
    "#     return results_1, results_2"
   ],
   "metadata": {
    "collapsed": false,
    "pycharm": {
     "name": "#%%\n"
    }
   }
  },
  {
   "cell_type": "code",
   "execution_count": 47,
   "outputs": [],
   "source": [
    "\n",
    "training_lengths = np.linspace(100, 250, num=4, dtype=int)"
   ],
   "metadata": {
    "collapsed": false,
    "pycharm": {
     "name": "#%%\n"
    }
   }
  },
  {
   "cell_type": "code",
   "execution_count": 48,
   "outputs": [
    {
     "name": "stdout",
     "output_type": "stream",
     "text": [
      "Running on 0\n"
     ]
    },
    {
     "name": "stderr",
     "output_type": "stream",
     "text": [
      "/home/ravin/anaconda3/envs/economics_analysis/lib/python3.8/site-packages/statsmodels/regression/linear_model.py:1715: RuntimeWarning: invalid value encountered in double_scalars\n",
      "  return 1 - self.ssr/self.centered_tss\n"
     ]
    },
    {
     "name": "stdout",
     "output_type": "stream",
     "text": [
      "skipping stock 4\n",
      "skipping stock 7\n",
      "Running on 10\n",
      "skipping stock 13\n",
      "skipping stock 16\n",
      "skipping stock 17\n",
      "skipping stock 18\n",
      "Running on 20\n",
      "skipping stock 26\n",
      "Running on 30\n",
      "skipping stock 34\n",
      "Running on 40\n",
      "skipping stock 41\n",
      "skipping stock 46\n",
      "Running on 50\n",
      "skipping stock 50\n",
      "skipping stock 56\n",
      "Running on 60\n",
      "skipping stock 62\n",
      "skipping stock 67\n",
      "skipping stock 68\n",
      "Running on 70\n",
      "skipping stock 71\n",
      "skipping stock 72\n",
      "skipping stock 74\n",
      "Running on 80\n",
      "skipping stock 81\n",
      "skipping stock 84\n",
      "skipping stock 87\n",
      "Running on 90\n",
      "skipping stock 97\n",
      "skipping stock 98\n",
      "skipping stock 99\n",
      "Running on 100\n",
      "Running on 110\n",
      "skipping stock 115\n",
      "skipping stock 116\n",
      "Running on 120\n",
      "skipping stock 122\n",
      "skipping stock 123\n",
      "skipping stock 124\n",
      "Running on 130\n",
      "skipping stock 130\n",
      "skipping stock 131\n",
      "skipping stock 137\n",
      "Running on 140\n",
      "skipping stock 147\n",
      "Running on 150\n",
      "skipping stock 157\n",
      "skipping stock 159\n",
      "Running on 160\n",
      "skipping stock 164\n",
      "Running on 170\n",
      "skipping stock 172\n",
      "Running on 180\n",
      "skipping stock 181\n",
      "skipping stock 183\n",
      "skipping stock 185\n",
      "skipping stock 188\n",
      "Running on 190\n",
      "skipping stock 192\n",
      "skipping stock 193\n",
      "skipping stock 198\n",
      "skipping stock 199\n",
      "Running on 200\n",
      "skipping stock 200\n",
      "skipping stock 201\n",
      "skipping stock 202\n",
      "skipping stock 206\n",
      "Running on 210\n",
      "skipping stock 212\n",
      "skipping stock 217\n",
      "skipping stock 219\n",
      "Running on 220\n",
      "Running on 230\n",
      "skipping stock 238\n",
      "skipping stock 239\n",
      "Running on 240\n",
      "skipping stock 242\n",
      "skipping stock 247\n",
      "Running on 250\n",
      "skipping stock 251\n",
      "skipping stock 255\n",
      "skipping stock 256\n",
      "skipping stock 258\n",
      "Running on 260\n",
      "skipping stock 262\n",
      "skipping stock 263\n",
      "Running on 270\n",
      "skipping stock 272\n",
      "skipping stock 273\n",
      "Running on 280\n",
      "skipping stock 280\n",
      "skipping stock 281\n",
      "skipping stock 282\n",
      "skipping stock 283\n",
      "skipping stock 285\n",
      "Running on 290\n",
      "Running on 0\n",
      "skipping stock 4\n",
      "skipping stock 7\n",
      "Running on 10\n",
      "skipping stock 13\n",
      "skipping stock 16\n",
      "skipping stock 17\n",
      "skipping stock 18\n",
      "Running on 20\n",
      "skipping stock 26\n",
      "Running on 30\n",
      "skipping stock 34\n",
      "Running on 40\n",
      "skipping stock 41\n",
      "skipping stock 46\n",
      "Running on 50\n",
      "skipping stock 50\n",
      "skipping stock 56\n",
      "Running on 60\n",
      "skipping stock 62\n",
      "skipping stock 67\n",
      "skipping stock 68\n",
      "Running on 70\n",
      "skipping stock 71\n",
      "skipping stock 72\n",
      "skipping stock 74\n",
      "Running on 80\n",
      "skipping stock 81\n",
      "skipping stock 84\n",
      "skipping stock 87\n",
      "Running on 90\n",
      "skipping stock 97\n",
      "skipping stock 98\n",
      "skipping stock 99\n",
      "Running on 100\n",
      "Running on 110\n",
      "skipping stock 115\n",
      "skipping stock 116\n",
      "Running on 120\n",
      "skipping stock 122\n",
      "skipping stock 123\n",
      "skipping stock 124\n",
      "Running on 130\n",
      "skipping stock 130\n",
      "skipping stock 131\n",
      "skipping stock 137\n",
      "Running on 140\n",
      "skipping stock 147\n",
      "Running on 150\n",
      "skipping stock 157\n",
      "skipping stock 159\n",
      "Running on 160\n",
      "skipping stock 164\n",
      "Running on 170\n",
      "skipping stock 172\n",
      "Running on 180\n",
      "skipping stock 181\n",
      "skipping stock 183\n",
      "skipping stock 185\n",
      "skipping stock 188\n",
      "Running on 190\n",
      "skipping stock 192\n",
      "skipping stock 193\n",
      "skipping stock 198\n",
      "skipping stock 199\n",
      "Running on 200\n",
      "skipping stock 200\n",
      "skipping stock 201\n",
      "skipping stock 202\n",
      "skipping stock 206\n",
      "Running on 210\n",
      "skipping stock 212\n",
      "skipping stock 217\n",
      "skipping stock 219\n",
      "Running on 220\n",
      "Running on 230\n",
      "skipping stock 238\n",
      "skipping stock 239\n",
      "Running on 240\n",
      "skipping stock 242\n",
      "skipping stock 247\n",
      "Running on 250\n",
      "skipping stock 251\n",
      "skipping stock 255\n",
      "skipping stock 256\n",
      "skipping stock 258\n",
      "Running on 260\n",
      "skipping stock 262\n",
      "skipping stock 263\n",
      "Running on 270\n",
      "skipping stock 272\n",
      "skipping stock 273\n",
      "Running on 280\n",
      "skipping stock 280\n",
      "skipping stock 281\n",
      "skipping stock 282\n",
      "skipping stock 283\n",
      "skipping stock 285\n",
      "Running on 290\n",
      "Running on 0\n",
      "skipping stock 4\n",
      "skipping stock 7\n",
      "Running on 10\n",
      "skipping stock 13\n",
      "skipping stock 16\n",
      "skipping stock 17\n",
      "skipping stock 18\n",
      "Running on 20\n",
      "skipping stock 26\n",
      "Running on 30\n",
      "skipping stock 34\n",
      "Running on 40\n",
      "skipping stock 41\n",
      "skipping stock 46\n",
      "Running on 50\n",
      "skipping stock 50\n",
      "skipping stock 56\n",
      "Running on 60\n",
      "skipping stock 62\n",
      "skipping stock 67\n",
      "skipping stock 68\n",
      "Running on 70\n",
      "skipping stock 71\n",
      "skipping stock 72\n",
      "skipping stock 74\n",
      "Running on 80\n",
      "skipping stock 81\n",
      "skipping stock 84\n",
      "skipping stock 87\n",
      "Running on 90\n",
      "skipping stock 97\n",
      "skipping stock 98\n",
      "skipping stock 99\n",
      "Running on 100\n",
      "Running on 110\n",
      "skipping stock 115\n",
      "skipping stock 116\n",
      "Running on 120\n",
      "skipping stock 122\n",
      "skipping stock 123\n",
      "skipping stock 124\n",
      "Running on 130\n",
      "skipping stock 130\n",
      "skipping stock 131\n",
      "skipping stock 137\n",
      "Running on 140\n",
      "skipping stock 147\n",
      "Running on 150\n",
      "skipping stock 157\n",
      "skipping stock 159\n",
      "Running on 160\n",
      "skipping stock 164\n",
      "Running on 170\n",
      "skipping stock 172\n",
      "Running on 180\n",
      "skipping stock 181\n",
      "skipping stock 183\n",
      "skipping stock 185\n",
      "skipping stock 188\n",
      "Running on 190\n",
      "skipping stock 192\n",
      "skipping stock 193\n",
      "skipping stock 198\n",
      "skipping stock 199\n",
      "Running on 200\n",
      "skipping stock 200\n",
      "skipping stock 201\n",
      "skipping stock 202\n",
      "skipping stock 206\n",
      "Running on 210\n",
      "skipping stock 212\n",
      "skipping stock 217\n",
      "skipping stock 219\n",
      "Running on 220\n",
      "Running on 230\n",
      "skipping stock 238\n",
      "skipping stock 239\n",
      "Running on 240\n",
      "skipping stock 242\n",
      "skipping stock 247\n",
      "Running on 250\n",
      "skipping stock 251\n",
      "skipping stock 255\n",
      "skipping stock 256\n",
      "skipping stock 258\n",
      "Running on 260\n",
      "skipping stock 262\n",
      "skipping stock 263\n",
      "Running on 270\n",
      "skipping stock 272\n",
      "skipping stock 273\n",
      "Running on 280\n",
      "skipping stock 280\n",
      "skipping stock 281\n",
      "skipping stock 282\n",
      "skipping stock 283\n",
      "skipping stock 285\n",
      "Running on 290\n",
      "Running on 0\n",
      "skipping stock 4\n",
      "skipping stock 7\n",
      "Running on 10\n",
      "skipping stock 13\n",
      "skipping stock 16\n",
      "skipping stock 17\n",
      "skipping stock 18\n",
      "Running on 20\n",
      "skipping stock 26\n",
      "Running on 30\n",
      "skipping stock 34\n",
      "Running on 40\n",
      "skipping stock 41\n",
      "skipping stock 46\n",
      "Running on 50\n",
      "skipping stock 50\n",
      "skipping stock 56\n",
      "Running on 60\n",
      "skipping stock 62\n",
      "skipping stock 67\n",
      "skipping stock 68\n",
      "Running on 70\n",
      "skipping stock 71\n",
      "skipping stock 72\n",
      "skipping stock 74\n",
      "Running on 80\n",
      "skipping stock 81\n",
      "skipping stock 84\n",
      "skipping stock 87\n",
      "Running on 90\n",
      "skipping stock 97\n",
      "skipping stock 98\n",
      "skipping stock 99\n",
      "Running on 100\n",
      "Running on 110\n",
      "skipping stock 115\n",
      "skipping stock 116\n",
      "Running on 120\n",
      "skipping stock 122\n",
      "skipping stock 123\n",
      "skipping stock 124\n",
      "Running on 130\n",
      "skipping stock 130\n",
      "skipping stock 131\n",
      "skipping stock 137\n",
      "Running on 140\n",
      "skipping stock 147\n",
      "Running on 150\n",
      "skipping stock 157\n",
      "skipping stock 159\n",
      "Running on 160\n",
      "skipping stock 164\n",
      "Running on 170\n",
      "skipping stock 172\n",
      "Running on 180\n",
      "skipping stock 181\n",
      "skipping stock 183\n",
      "skipping stock 185\n",
      "skipping stock 188\n",
      "Running on 190\n",
      "skipping stock 192\n",
      "skipping stock 193\n",
      "skipping stock 198\n",
      "skipping stock 199\n",
      "Running on 200\n",
      "skipping stock 200\n",
      "skipping stock 201\n",
      "skipping stock 202\n",
      "skipping stock 206\n",
      "Running on 210\n",
      "skipping stock 212\n",
      "skipping stock 217\n",
      "skipping stock 219\n",
      "Running on 220\n",
      "Running on 230\n",
      "skipping stock 238\n",
      "skipping stock 239\n",
      "Running on 240\n",
      "skipping stock 242\n",
      "skipping stock 247\n",
      "Running on 250\n",
      "skipping stock 251\n",
      "skipping stock 255\n",
      "skipping stock 256\n",
      "skipping stock 258\n",
      "Running on 260\n",
      "skipping stock 262\n",
      "skipping stock 263\n",
      "Running on 270\n",
      "skipping stock 272\n",
      "skipping stock 273\n",
      "Running on 280\n",
      "skipping stock 280\n",
      "skipping stock 281\n",
      "skipping stock 282\n",
      "skipping stock 283\n",
      "skipping stock 285\n",
      "Running on 290\n"
     ]
    }
   ],
   "source": [
    "results = dict()\n",
    "for training_length in training_lengths:\n",
    "    if training_length not in results:\n",
    "        results[training_length] = run_experiment_single_training_length(factors,\n",
    "                                                                         'Unnamed: 0',\n",
    "                                                                         training_length=training_length,\n",
    "                                                                         stocks=stock_data.copy())"
   ],
   "metadata": {
    "collapsed": false,
    "pycharm": {
     "name": "#%%\n"
    }
   }
  },
  {
   "cell_type": "code",
   "execution_count": 49,
   "outputs": [],
   "source": [
    "import itertools\n",
    "\n",
    "pairs = itertools.permutations(training_lengths, 2)\n",
    "\n",
    "significance_alpha = dict()\n",
    "for pair in pairs:\n",
    "    if pair not in significance_alpha:\n",
    "        results_1 = results[pair[0]]\n",
    "        results_2 = results[pair[1]]\n",
    "        significance_alpha[pair] = perform_significance_test(alpha_1=[result['alpha'] for result in results_1 if 'alpha' in result],\n",
    "                                                             alpha_2=[result['alpha'] for result in results_2 if 'alpha' in result])"
   ],
   "metadata": {
    "collapsed": false,
    "pycharm": {
     "name": "#%%\n"
    }
   }
  },
  {
   "cell_type": "code",
   "execution_count": 50,
   "outputs": [],
   "source": [
    "beta_results = dict()\n",
    "\n",
    "for key, item in results.items():\n",
    "    if key not in beta_results:\n",
    "        beta_results[key] = dict()\n",
    "        for i, stock in enumerate(item):\n",
    "            if 'betas' not in stock:\n",
    "                continue\n",
    "            for factor_beta_column in stock['betas'].index:\n",
    "                if factor_beta_column not in beta_results[key]:\n",
    "                    beta_results[key][factor_beta_column] = dict()\n",
    "                beta_results[key][factor_beta_column][i] = stock['betas'][factor_beta_column]"
   ],
   "metadata": {
    "collapsed": false,
    "pycharm": {
     "name": "#%%\n"
    }
   }
  },
  {
   "cell_type": "code",
   "execution_count": 51,
   "outputs": [],
   "source": [
    "factors_names = list(factors.columns.difference(['Unnamed: 0', 'Mkt-RF', 'RF'])).copy()\n",
    "\n",
    "pairs = itertools.permutations(training_lengths, 2)\n",
    "\n",
    "significance_beta = dict()\n",
    "for pair in pairs:\n",
    "    if pair not in significance_beta:\n",
    "        significance_beta[pair] = dict()\n",
    "    for factor_name in factors_names:\n",
    "        if factor_name not in significance_beta[pair]:\n",
    "            betas_1 = list(beta_results[pair[0]][factor_name].values())\n",
    "            betas_2 = list(beta_results[pair[1]][factor_name].values())\n",
    "            significance_beta[pair][factor_name] = perform_significance_test(betas_1=betas_1,\n",
    "                                                                             betas_2=betas_2)"
   ],
   "metadata": {
    "collapsed": false,
    "pycharm": {
     "name": "#%%\n"
    }
   }
  },
  {
   "cell_type": "code",
   "execution_count": 17,
   "outputs": [
    {
     "name": "stdout",
     "output_type": "stream",
     "text": [
      "(100, 200)\n",
      "(100, 250)\n",
      "(150, 100)\n",
      "(150, 200)\n",
      "(150, 250)\n",
      "(200, 100)\n",
      "(200, 150)\n",
      "(200, 250)\n",
      "(250, 100)\n",
      "(250, 150)\n",
      "(250, 200)\n"
     ]
    }
   ],
   "source": [
    "for pair in pairs:\n",
    "    print(pair)"
   ],
   "metadata": {
    "collapsed": false,
    "pycharm": {
     "name": "#%%\n"
    }
   }
  },
  {
   "cell_type": "code",
   "execution_count": null,
   "outputs": [],
   "source": [
    "print(stock_data.shape)"
   ],
   "metadata": {
    "collapsed": false,
    "pycharm": {
     "name": "#%%\n"
    }
   }
  },
  {
   "cell_type": "code",
   "execution_count": null,
   "outputs": [],
   "source": [
    "factors_names"
   ],
   "metadata": {
    "collapsed": false,
    "pycharm": {
     "name": "#%%\n"
    }
   }
  },
  {
   "cell_type": "code",
   "execution_count": 72,
   "outputs": [],
   "source": [
    "import matplotlib\n",
    "from sklearn.metrics import r2_score\n",
    "\n",
    "font = {'family' : 'normal',\n",
    "        'size'   : 12}\n",
    "matplotlib.rc('axes', titlesize=40)\n",
    "matplotlib.rc('font', **font)\n",
    "X, y, dates = _prepare_X_y(stock_data.copy(), factors, 0, predictor_on='Unnamed: 0')\n",
    "def plot_model(alpha, beta, regressor, regressor_name, model, stock, title):\n",
    "    #Plot data and regression lines\n",
    "    fig = plt.figure(figsize=(27,12))\n",
    "    # fig.suptitle(title, fontsize=22)\n",
    "    print(title)\n",
    "    ax1 = fig.add_subplot(121)\n",
    "    ax1.scatter(regressor[:, 1], stock, color='blue', alpha=0.3)\n",
    "    r2 = model[1].rsquared\n",
    "    print(regressor[:, 1].shape)\n",
    "    ax1.plot(regressor[:, 1], model[0].predict(regressor), color='red', linewidth=2, label=f\"{regressor_name}\")\n",
    "    ax1.set_title(f\" Alpha: {round(alpha, 3)} Beta: {round(beta, 3)} R2: {round(r2, 3)}\", {'fontsize': 16})\n",
    "    ax1.set_ylabel('Percent Return of Stock', {'fontsize': 16})\n",
    "    ax1.set_xlabel('Return of CMA', {'fontsize': 16}, labelpad=10)\n",
    "    # ax1.set_xlim(-0.1, 0.1)\n",
    "    # ax1.set_ylim(-0.5, 0.5)\n",
    "    # ax1.set_yticks([-0.5, -0.25, 0, 0.25, 0.5])\n",
    "    ax1.grid(True, which='both')\n",
    "    ax1.axhline(y=0, color='black', linestyle=':')\n",
    "    ax1.axvline(x=0, color='black', linestyle=':')\n",
    "    ax1.legend(loc='upper right', fontsize='large')\n",
    "    plt.savefig(f'plots/line_fit_{regressor_name}_stock.png')"
   ],
   "metadata": {
    "collapsed": false,
    "pycharm": {
     "name": "#%%\n"
    }
   }
  },
  {
   "cell_type": "code",
   "execution_count": 73,
   "outputs": [],
   "source": [
    "X = X['CMA'].iloc[100:400].to_numpy().reshape(-1, 1)\n",
    "y = y.iloc[100:400].interpolate().fillna(method='bfill').to_numpy() * 100\n",
    "\n",
    "from sklearn.linear_model import LinearRegression\n",
    "\n",
    "X = sm.add_constant(X)\n",
    "model = sm.OLS(y, X)\n",
    "\n",
    "results_one = model.fit()"
   ],
   "metadata": {
    "collapsed": false,
    "pycharm": {
     "name": "#%%\n"
    }
   }
  },
  {
   "cell_type": "code",
   "execution_count": 74,
   "outputs": [
    {
     "name": "stdout",
     "output_type": "stream",
     "text": [
      "\n",
      "Monthly Performance from 03/07/1990 to 14/01/1992 for CMA on Stock 0\n",
      "(300,)\n"
     ]
    },
    {
     "ename": "ValueError",
     "evalue": "shapes (300,2) and (300,2) not aligned: 2 (dim 1) != 300 (dim 0)",
     "output_type": "error",
     "traceback": [
      "\u001B[0;31m---------------------------------------------------------------------------\u001B[0m",
      "\u001B[0;31mValueError\u001B[0m                                Traceback (most recent call last)",
      "\u001B[0;32m<ipython-input-74-c62c696ce87c>\u001B[0m in \u001B[0;36m<module>\u001B[0;34m\u001B[0m\n\u001B[1;32m      1\u001B[0m \u001B[0mprint\u001B[0m\u001B[0;34m(\u001B[0m\u001B[0;34m)\u001B[0m\u001B[0;34m\u001B[0m\u001B[0;34m\u001B[0m\u001B[0m\n\u001B[0;32m----> 2\u001B[0;31m \u001B[0mplot_model\u001B[0m\u001B[0;34m(\u001B[0m\u001B[0malpha\u001B[0m\u001B[0;34m=\u001B[0m\u001B[0mresults_one\u001B[0m\u001B[0;34m.\u001B[0m\u001B[0mparams\u001B[0m\u001B[0;34m[\u001B[0m\u001B[0;36m0\u001B[0m\u001B[0;34m]\u001B[0m\u001B[0;34m,\u001B[0m \u001B[0mbeta\u001B[0m\u001B[0;34m=\u001B[0m\u001B[0mresults_one\u001B[0m\u001B[0;34m.\u001B[0m\u001B[0mparams\u001B[0m\u001B[0;34m[\u001B[0m\u001B[0;34m-\u001B[0m\u001B[0;36m1\u001B[0m\u001B[0;34m]\u001B[0m\u001B[0;34m,\u001B[0m \u001B[0mregressor\u001B[0m\u001B[0;34m=\u001B[0m\u001B[0mX\u001B[0m\u001B[0;34m,\u001B[0m \u001B[0mregressor_name\u001B[0m\u001B[0;34m=\u001B[0m\u001B[0;34m'CMA'\u001B[0m\u001B[0;34m,\u001B[0m \u001B[0mmodel\u001B[0m\u001B[0;34m=\u001B[0m\u001B[0;34m(\u001B[0m\u001B[0mmodel\u001B[0m\u001B[0;34m,\u001B[0m \u001B[0mresults_one\u001B[0m\u001B[0;34m)\u001B[0m\u001B[0;34m,\u001B[0m \u001B[0mstock\u001B[0m\u001B[0;34m=\u001B[0m\u001B[0my\u001B[0m\u001B[0;34m,\u001B[0m \u001B[0mtitle\u001B[0m\u001B[0;34m=\u001B[0m\u001B[0;34mf\"Monthly Performance from {dates[100].strftime('%d/%m/%Y')} to {dates[399].strftime('%d/%m/%Y')} for CMA on Stock 0\"\u001B[0m\u001B[0;34m)\u001B[0m\u001B[0;34m\u001B[0m\u001B[0;34m\u001B[0m\u001B[0m\n\u001B[0m",
      "\u001B[0;32m<ipython-input-72-f876918535ce>\u001B[0m in \u001B[0;36mplot_model\u001B[0;34m(alpha, beta, regressor, regressor_name, model, stock, title)\u001B[0m\n\u001B[1;32m     16\u001B[0m     \u001B[0mr2\u001B[0m \u001B[0;34m=\u001B[0m \u001B[0mmodel\u001B[0m\u001B[0;34m[\u001B[0m\u001B[0;36m1\u001B[0m\u001B[0;34m]\u001B[0m\u001B[0;34m.\u001B[0m\u001B[0mrsquared\u001B[0m\u001B[0;34m\u001B[0m\u001B[0;34m\u001B[0m\u001B[0m\n\u001B[1;32m     17\u001B[0m     \u001B[0mprint\u001B[0m\u001B[0;34m(\u001B[0m\u001B[0mregressor\u001B[0m\u001B[0;34m[\u001B[0m\u001B[0;34m:\u001B[0m\u001B[0;34m,\u001B[0m \u001B[0;36m1\u001B[0m\u001B[0;34m]\u001B[0m\u001B[0;34m.\u001B[0m\u001B[0mshape\u001B[0m\u001B[0;34m)\u001B[0m\u001B[0;34m\u001B[0m\u001B[0;34m\u001B[0m\u001B[0m\n\u001B[0;32m---> 18\u001B[0;31m     \u001B[0max1\u001B[0m\u001B[0;34m.\u001B[0m\u001B[0mplot\u001B[0m\u001B[0;34m(\u001B[0m\u001B[0mregressor\u001B[0m\u001B[0;34m[\u001B[0m\u001B[0;34m:\u001B[0m\u001B[0;34m,\u001B[0m \u001B[0;36m1\u001B[0m\u001B[0;34m]\u001B[0m\u001B[0;34m,\u001B[0m \u001B[0mmodel\u001B[0m\u001B[0;34m[\u001B[0m\u001B[0;36m0\u001B[0m\u001B[0;34m]\u001B[0m\u001B[0;34m.\u001B[0m\u001B[0mpredict\u001B[0m\u001B[0;34m(\u001B[0m\u001B[0mregressor\u001B[0m\u001B[0;34m)\u001B[0m\u001B[0;34m,\u001B[0m \u001B[0mcolor\u001B[0m\u001B[0;34m=\u001B[0m\u001B[0;34m'red'\u001B[0m\u001B[0;34m,\u001B[0m \u001B[0mlinewidth\u001B[0m\u001B[0;34m=\u001B[0m\u001B[0;36m2\u001B[0m\u001B[0;34m,\u001B[0m \u001B[0mlabel\u001B[0m\u001B[0;34m=\u001B[0m\u001B[0;34mf\"{regressor_name}\"\u001B[0m\u001B[0;34m)\u001B[0m\u001B[0;34m\u001B[0m\u001B[0;34m\u001B[0m\u001B[0m\n\u001B[0m\u001B[1;32m     19\u001B[0m     \u001B[0max1\u001B[0m\u001B[0;34m.\u001B[0m\u001B[0mset_title\u001B[0m\u001B[0;34m(\u001B[0m\u001B[0;34mf\" Alpha: {round(alpha, 3)} Beta: {round(beta, 3)} R2: {round(r2, 3)}\"\u001B[0m\u001B[0;34m,\u001B[0m \u001B[0;34m{\u001B[0m\u001B[0;34m'fontsize'\u001B[0m\u001B[0;34m:\u001B[0m \u001B[0;36m16\u001B[0m\u001B[0;34m}\u001B[0m\u001B[0;34m)\u001B[0m\u001B[0;34m\u001B[0m\u001B[0;34m\u001B[0m\u001B[0m\n\u001B[1;32m     20\u001B[0m     \u001B[0max1\u001B[0m\u001B[0;34m.\u001B[0m\u001B[0mset_ylabel\u001B[0m\u001B[0;34m(\u001B[0m\u001B[0;34m'Percent Return of Stock'\u001B[0m\u001B[0;34m,\u001B[0m \u001B[0;34m{\u001B[0m\u001B[0;34m'fontsize'\u001B[0m\u001B[0;34m:\u001B[0m \u001B[0;36m16\u001B[0m\u001B[0;34m}\u001B[0m\u001B[0;34m)\u001B[0m\u001B[0;34m\u001B[0m\u001B[0;34m\u001B[0m\u001B[0m\n",
      "\u001B[0;32m~/anaconda3/envs/economics_analysis/lib/python3.8/site-packages/statsmodels/regression/linear_model.py\u001B[0m in \u001B[0;36mpredict\u001B[0;34m(self, params, exog)\u001B[0m\n\u001B[1;32m    378\u001B[0m             \u001B[0mexog\u001B[0m \u001B[0;34m=\u001B[0m \u001B[0mself\u001B[0m\u001B[0;34m.\u001B[0m\u001B[0mexog\u001B[0m\u001B[0;34m\u001B[0m\u001B[0;34m\u001B[0m\u001B[0m\n\u001B[1;32m    379\u001B[0m \u001B[0;34m\u001B[0m\u001B[0m\n\u001B[0;32m--> 380\u001B[0;31m         \u001B[0;32mreturn\u001B[0m \u001B[0mnp\u001B[0m\u001B[0;34m.\u001B[0m\u001B[0mdot\u001B[0m\u001B[0;34m(\u001B[0m\u001B[0mexog\u001B[0m\u001B[0;34m,\u001B[0m \u001B[0mparams\u001B[0m\u001B[0;34m)\u001B[0m\u001B[0;34m\u001B[0m\u001B[0;34m\u001B[0m\u001B[0m\n\u001B[0m\u001B[1;32m    381\u001B[0m \u001B[0;34m\u001B[0m\u001B[0m\n\u001B[1;32m    382\u001B[0m     \u001B[0;32mdef\u001B[0m \u001B[0mget_distribution\u001B[0m\u001B[0;34m(\u001B[0m\u001B[0mself\u001B[0m\u001B[0;34m,\u001B[0m \u001B[0mparams\u001B[0m\u001B[0;34m,\u001B[0m \u001B[0mscale\u001B[0m\u001B[0;34m,\u001B[0m \u001B[0mexog\u001B[0m\u001B[0;34m=\u001B[0m\u001B[0;32mNone\u001B[0m\u001B[0;34m,\u001B[0m \u001B[0mdist_class\u001B[0m\u001B[0;34m=\u001B[0m\u001B[0;32mNone\u001B[0m\u001B[0;34m)\u001B[0m\u001B[0;34m:\u001B[0m\u001B[0;34m\u001B[0m\u001B[0;34m\u001B[0m\u001B[0m\n",
      "\u001B[0;32m<__array_function__ internals>\u001B[0m in \u001B[0;36mdot\u001B[0;34m(*args, **kwargs)\u001B[0m\n",
      "\u001B[0;31mValueError\u001B[0m: shapes (300,2) and (300,2) not aligned: 2 (dim 1) != 300 (dim 0)"
     ]
    },
    {
     "data": {
      "text/plain": "<Figure size 1944x864 with 1 Axes>",
      "image/png": "[encoded data removed]"
     },
     "metadata": {
      "needs_background": "light"
     },
     "output_type": "display_data"
    }
   ],
   "source": [
    "print()\n",
    "plot_model(alpha=results_one.params[0], beta=results_one.params[-1], regressor=X, regressor_name='CMA', model=(model, results_one), stock=y, title=f\"Monthly Performance from {dates[100].strftime('%d/%m/%Y')} to {dates[399].strftime('%d/%m/%Y')} for CMA on Stock 0\")"
   ],
   "metadata": {
    "collapsed": false,
    "pycharm": {
     "name": "#%%\n"
    }
   }
  },
  {
   "cell_type": "code",
   "execution_count": 173,
   "outputs": [
    {
     "data": {
      "text/plain": "0.014791417020967979"
     },
     "execution_count": 173,
     "metadata": {},
     "output_type": "execute_result"
    }
   ],
   "source": [
    "model.score(X, y)"
   ],
   "metadata": {
    "collapsed": false,
    "pycharm": {
     "name": "#%%\n"
    }
   }
  },
  {
   "cell_type": "code",
   "execution_count": 59,
   "outputs": [
    {
     "name": "stdout",
     "output_type": "stream",
     "text": [
      "(100, 150)\n",
      "0.03801534066423943\n",
      "(100, 200)\n",
      "0.6745097184680902\n",
      "(100, 250)\n",
      "0.000521027007852256\n",
      "(150, 100)\n",
      "0.9619846593357606\n",
      "(150, 200)\n",
      "0.9926165267388447\n",
      "(150, 250)\n",
      "0.0005964680924183128\n",
      "(200, 100)\n",
      "0.3254902815319099\n",
      "(200, 150)\n",
      "0.0073834732611553384\n",
      "(200, 250)\n",
      "6.659610133139668e-08\n",
      "(250, 100)\n",
      "0.9994789729921477\n",
      "(250, 150)\n",
      "0.9994035319075817\n",
      "(250, 200)\n",
      "0.9999999334038987\n"
     ]
    }
   ],
   "source": [
    "\n",
    "for key, item in significance_beta.items():\n",
    "    print(key)\n",
    "    print(item['HML']['betas']['less'].pvalue)"
   ],
   "metadata": {
    "collapsed": false,
    "pycharm": {
     "name": "#%%\n"
    }
   }
  },
  {
   "cell_type": "code",
   "execution_count": 60,
   "outputs": [
    {
     "name": "stdout",
     "output_type": "stream",
     "text": [
      "(100, 150)\n",
      "0.07603068132847886\n",
      "(100, 200)\n",
      "0.6509805630638198\n",
      "(100, 250)\n",
      "0.001042054015704512\n",
      "(150, 100)\n",
      "0.07603068132847886\n",
      "(150, 200)\n",
      "0.014766946522310677\n",
      "(150, 250)\n",
      "0.0011929361848366255\n",
      "(200, 100)\n",
      "0.6509805630638198\n",
      "(200, 150)\n",
      "0.014766946522310677\n",
      "(200, 250)\n",
      "1.3319220266279337e-07\n",
      "(250, 100)\n",
      "0.001042054015704512\n",
      "(250, 150)\n",
      "0.0011929361848366255\n",
      "(250, 200)\n",
      "1.3319220266279337e-07\n"
     ]
    }
   ],
   "source": [
    "\n",
    "for key, item in significance_beta.items():\n",
    "    print(key)\n",
    "    print(item['HML']['betas']['two-sided'].pvalue)"
   ],
   "metadata": {
    "collapsed": false,
    "pycharm": {
     "name": "#%%\n"
    }
   }
  },
  {
   "cell_type": "code",
   "execution_count": 61,
   "outputs": [
    {
     "name": "stdout",
     "output_type": "stream",
     "text": [
      "(100, 150)\n",
      "3.3389634702971013e-07\n",
      "(100, 200)\n",
      "2.078138525915489e-10\n",
      "(100, 250)\n",
      "2.721776918783708e-10\n",
      "(150, 100)\n",
      "0.999999666103653\n",
      "(150, 200)\n",
      "0.2425041242104402\n",
      "(150, 250)\n",
      "0.06928735938981347\n",
      "(200, 100)\n",
      "0.9999999997921861\n",
      "(200, 150)\n",
      "0.7574958757895598\n",
      "(200, 250)\n",
      "0.00636647084330056\n",
      "(250, 100)\n",
      "0.9999999997278223\n",
      "(250, 150)\n",
      "0.9307126406101865\n",
      "(250, 200)\n",
      "0.9936335291566994\n"
     ]
    }
   ],
   "source": [
    "for key, item in significance_alpha.items():\n",
    "    print(key)\n",
    "    print(item['alpha']['less'].pvalue)"
   ],
   "metadata": {
    "collapsed": false,
    "pycharm": {
     "name": "#%%\n"
    }
   }
  },
  {
   "cell_type": "code",
   "execution_count": 62,
   "outputs": [
    {
     "name": "stdout",
     "output_type": "stream",
     "text": [
      "(100, 150)\n",
      "6.677926940594203e-07\n",
      "(100, 200)\n",
      "4.156277051830978e-10\n",
      "(100, 250)\n",
      "5.443553837567416e-10\n",
      "(150, 100)\n",
      "6.677926940594203e-07\n",
      "(150, 200)\n",
      "0.4850082484208804\n",
      "(150, 250)\n",
      "0.13857471877962693\n",
      "(200, 100)\n",
      "4.156277051830978e-10\n",
      "(200, 150)\n",
      "0.4850082484208804\n",
      "(200, 250)\n",
      "0.01273294168660112\n",
      "(250, 100)\n",
      "5.443553837567416e-10\n",
      "(250, 150)\n",
      "0.13857471877962693\n",
      "(250, 200)\n",
      "0.01273294168660112\n"
     ]
    }
   ],
   "source": [
    "for key, item in significance_alpha.items():\n",
    "    print(key)\n",
    "    print(item['alpha']['two-sided'].pvalue)"
   ],
   "metadata": {
    "collapsed": false,
    "pycharm": {
     "name": "#%%\n"
    }
   }
  },
  {
   "cell_type": "code",
   "execution_count": null,
   "outputs": [],
   "source": [],
   "metadata": {
    "collapsed": false,
    "pycharm": {
     "name": "#%%\n"
    }
   }
  }
 ],
 "metadata": {
  "kernelspec": {
   "display_name": "Python 3",
   "language": "python",
   "name": "python3"
  },
  "language_info": {
   "codemirror_mode": {
    "name": "ipython",
    "version": 2
   },
   "file_extension": ".py",
   "mimetype": "text/x-python",
   "name": "python",
   "nbconvert_exporter": "python",
   "pygments_lexer": "ipython2",
   "version": "2.7.6"
  }
 },
 "nbformat": 4,
 "nbformat_minor": 0
}